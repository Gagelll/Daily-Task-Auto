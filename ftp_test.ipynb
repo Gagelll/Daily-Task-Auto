{
 "cells": [
  {
   "cell_type": "code",
   "execution_count": 17,
   "metadata": {},
   "outputs": [],
   "source": [
    "import ftplib\n",
    "import datetime\n",
    "import shutil\n",
    "import string\n",
    "import shutil\n",
    "import os\n",
    "from datetime import date, timedelta\n",
    "import calendar\n",
    "\n",
    "FTP_HOST = \"192.168.168.33\"\n",
    "FTP_USER = \"Extract\"\n",
    "FTP_PASS = \"Am4d3us\""
   ]
  },
  {
   "cell_type": "code",
   "execution_count": 18,
   "metadata": {},
   "outputs": [],
   "source": [
    "#connect to server\n",
    "ftp = ftplib.FTP(FTP_HOST,FTP_USER,FTP_PASS)\n",
    "\n",
    "ftp.encoding = \"utf-8\""
   ]
  },
  {
   "cell_type": "code",
   "execution_count": 19,
   "metadata": {},
   "outputs": [],
   "source": [
    "def download_from_box_monday(nickname):\n",
    "    exclude =set(string.punctuation)\n",
    "\n",
    "    saturday = my_date + timedelta(days=-2)\n",
    "    sunday = my_date + timedelta(days=-1)\n",
    "    saturday_date = ''.join(ch for ch in str(saturday) if ch not in exclude)\n",
    "    sunday_date = ''.join(ch for ch in str(sunday) if ch not in exclude)\n",
    "    print(saturday_date, sunday_date)\n",
    "\n",
    "    files = ftp.nlst()\n",
    "\n",
    "    for filename in files:\n",
    "        if nickname in filename:\n",
    "            if saturday_date in filename:\n",
    "                with open(filename,\"wb\") as file:\n",
    "                    ftp.retrbinary(\"RETR\" + \" \" + filename, file.write)\n",
    "            elif sunday_date in filename:\n",
    "                with open(filename,\"wb\") as file:\n",
    "                    ftp.retrbinary(\"RETR\" + \" \" + filename, file.write)\n",
    "        "
   ]
  },
  {
   "cell_type": "code",
   "execution_count": 20,
   "metadata": {},
   "outputs": [
    {
     "name": "stdout",
     "output_type": "stream",
     "text": [
      "Friday\n"
     ]
    }
   ],
   "source": [
    "my_date = date.today()\n",
    "\n",
    "dow = calendar.day_name[my_date.weekday()]\n",
    "\n",
    "print(dow)\n",
    "\n",
    "if dow == 'Monday':\n",
    "    download_from_box_monday('CONFERENCE')\n",
    "    download_from_box_monday('ARRIVALS')"
   ]
  },
  {
   "cell_type": "code",
   "execution_count": 21,
   "metadata": {},
   "outputs": [],
   "source": [
    "def download_from_box(nickname):\n",
    "    today_date = str(datetime.date.today())\n",
    "    exclude =set(string.punctuation)\n",
    "    date = ''.join(ch for ch in today_date if ch not in exclude)\n",
    "\n",
    "    files = ftp.nlst()\n",
    "\n",
    "    for filename in files:\n",
    "\n",
    "        if nickname in filename and date in filename:\n",
    "            with open(filename,\"wb\") as file:\n",
    "                ftp.retrbinary(\"RETR\" + \" \" + filename, file.write)\n"
   ]
  },
  {
   "cell_type": "code",
   "execution_count": 22,
   "metadata": {},
   "outputs": [],
   "source": [
    "download_from_box('CREATED')"
   ]
  },
  {
   "cell_type": "code",
   "execution_count": 23,
   "metadata": {},
   "outputs": [],
   "source": [
    "#Download The files\n",
    "download_from_box('EXTENDED')\n",
    "\n",
    "download_from_box('ARRIVALS')\n",
    "\n",
    "#download_from_box('CREATED')\n",
    "\n",
    "download_from_box('DEPARTURES')\n",
    "\n",
    "download_from_box('BATCH')\n",
    "\n",
    "download_from_box('PRODUCTS')\n",
    "\n",
    "download_from_box ('GUEST')\n",
    "\n",
    "download_from_box('PAYMENTS')\n"
   ]
  },
  {
   "cell_type": "code",
   "execution_count": 24,
   "metadata": {},
   "outputs": [],
   "source": [
    "def delete_files(dir, nickname):\n",
    "    dir_content = os.listdir(dir)\n",
    "\n",
    "    for file in dir_content:\n",
    "        if os.path.exists(dir + '\\\\' + file) and nickname in file:\n",
    "            os.remove(dir + '\\\\' + file)\n",
    "        else:\n",
    "            print('There are no files in' + ' ' + dir)"
   ]
  },
  {
   "cell_type": "code",
   "execution_count": 25,
   "metadata": {},
   "outputs": [
    {
     "name": "stdout",
     "output_type": "stream",
     "text": [
      "There are no files in V:\\Data & Analytics\\Arrivals\n",
      "There are no files in V:\\Data & Analytics\\Arrivals\n",
      "There are no files in V:\\Data & Analytics\\Conference Data\\Daily Reports\n",
      "There are no files in V:\\Data & Analytics\\Conference Data\\Daily Reports\n",
      "There are no files in V:\\Data & Analytics\\SixYearAtlas\\Data\\2022\n",
      "There are no files in V:\\Data & Analytics\\SixYearAtlas\\Data\\2022\n"
     ]
    }
   ],
   "source": [
    "delete_files('V:\\Data & Analytics\\Allotments\\Data', 'EXTENDED')\n",
    "\n",
    "delete_files(\"V:\\Data & Analytics\\Arrivals\", 'ARRIVALS')\n",
    "\n",
    "delete_files('V:\\Data & Analytics\\Conference Data\\Daily Reports', 'CONFERENCE_RESERVATIONS_TODAY')\n",
    "\n",
    "delete_files('V:\\Data & Analytics\\Created Report\\Data\\Current', 'RESERVATIONS_CREATED_ON')\n",
    "\n",
    "delete_files(\"V:\\\\Data & Analytics\\\\SixYearAtlas\\\\Data\\\\2022\", 'BATCH')\n",
    "\n",
    "delete_files(\"V:\\Data & Analytics\\Departures\\Data\", 'DEPARTURES_PER_DEPARTURE_DATE')\n",
    "\n",
    "delete_files('V:\\Data & Analytics\\Hist Journal Products\\Data', 'PRODUCTS')\n",
    "\n",
    "delete_files('V:\\Data & Analytics\\Guest Ledger\\Data', 'GUEST')\n",
    "\n",
    "delete_files('V:\\Data & Analytics\\Finance\\Hist Journal Payments\\Data', 'PAYMENTS')\n",
    "\n",
    "delete_files(\"V:\\Data & Analytics\\Departures\\Data Hist\", 'HIST._DEPARTURES_PER_DEPARTURE_DATE')"
   ]
  },
  {
   "cell_type": "code",
   "execution_count": 26,
   "metadata": {},
   "outputs": [],
   "source": [
    "def move_files(destination, nickname):\n",
    "    path = \"V:\\Data & Analytics\\Sandbox\\Gage\\Practice_py\"\n",
    "    dir_list = os.listdir(path)\n",
    "\n",
    "    for file_name in dir_list:\n",
    "        if nickname in file_name:\n",
    "            start_path = path + '\\\\' + file_name\n",
    "            shutil.move(start_path, destination)\n",
    "\n",
    "    allot_dir = os.listdir(destination)\n",
    "\n",
    "    print('There are' + ' ' + str(len(allot_dir)) + ' ' + 'files in' + ' ' + destination)"
   ]
  },
  {
   "cell_type": "code",
   "execution_count": 27,
   "metadata": {},
   "outputs": [
    {
     "name": "stdout",
     "output_type": "stream",
     "text": [
      "There are 11 files in V:\\Data & Analytics\\Conference Data\\Daily Reports\n",
      "There are 53 files in V:\\Data & Analytics\\Created Report\\Data\\Current\n"
     ]
    }
   ],
   "source": [
    "move_files('V:\\Data & Analytics\\Conference Data\\Daily Reports', 'CONFERENCE')\n",
    "\n",
    "move_files('V:\\Data & Analytics\\Created Report\\Data\\Current', 'RESERVATIONS_CREATED_ON')"
   ]
  },
  {
   "cell_type": "code",
   "execution_count": 28,
   "metadata": {},
   "outputs": [
    {
     "name": "stdout",
     "output_type": "stream",
     "text": [
      "There are 53 files in V:\\Data & Analytics\\Departures\\Data Hist\n"
     ]
    }
   ],
   "source": [
    "#Move HIST_DEPARTURES first as it conflicts with departures.\n",
    "move_files(\"V:\\Data & Analytics\\Departures\\Data Hist\", 'HIST._DEPARTURES_PER_DEPARTURE_DATE')"
   ]
  },
  {
   "cell_type": "code",
   "execution_count": 29,
   "metadata": {},
   "outputs": [
    {
     "name": "stdout",
     "output_type": "stream",
     "text": [
      "There are 53 files in V:\\Data & Analytics\\Allotments\\Data\n",
      "There are 55 files in V:\\Data & Analytics\\Arrivals\n",
      "There are 55 files in V:\\Data & Analytics\\SixYearAtlas\\Data\\2022\n",
      "There are 53 files in V:\\Data & Analytics\\Departures\\Data\n",
      "There are 53 files in V:\\Data & Analytics\\Hist Journal Products\\Data\n",
      "There are 53 files in V:\\Data & Analytics\\Guest Ledger\\Data\n",
      "There are 53 files in V:\\Data & Analytics\\Finance\\Hist Journal Payments\\Data\n"
     ]
    }
   ],
   "source": [
    "move_files('V:\\Data & Analytics\\Allotments\\Data', 'EXTENDED')\n",
    "\n",
    "move_files(\"V:\\Data & Analytics\\Arrivals\", 'ARRIVALS')\n",
    "\n",
    "#move_files('V:\\Data & Analytics\\Conference Data\\Daily Reports', 'CONFERENCE')\n",
    "\n",
    "#move_files('V:\\Data & Analytics\\Created Report\\Data\\Current', 'RESERVATIONS_CREATED_ON')\n",
    "\n",
    "move_files(\"V:\\\\Data & Analytics\\\\SixYearAtlas\\\\Data\\\\2022\", 'BATCH')\n",
    "\n",
    "move_files(\"V:\\Data & Analytics\\Departures\\Data\", 'DEPARTURES_PER_DEPARTURE_DATE')\n",
    "\n",
    "move_files('V:\\Data & Analytics\\Hist Journal Products\\Data', 'PRODUCTS')\n",
    "\n",
    "move_files('V:\\Data & Analytics\\Guest Ledger\\Data', 'GUEST')\n",
    "\n",
    "move_files('V:\\Data & Analytics\\Finance\\Hist Journal Payments\\Data', 'PAYMENTS')"
   ]
  },
  {
   "cell_type": "code",
   "execution_count": 30,
   "metadata": {},
   "outputs": [],
   "source": [
    "hotel_list = [\"QQZBA\",\"XQDBF\",\"BHXEC\",\"BHXBP\",\"OXFBR\",\"BFYVL\",\"BRSNR\",\"BRSCT\",\"CBGCC\",\"DBYUK\",\"DOTWC\",\"EMLAP\",\"EDBLH\",\"EDBUK\",\"EXTCC\",\"EXEUK\",\"GLWAP\",\"GLWST\",\"GLCUK\",\"STDHM\",\"LTNSP\",\"INVUK\",\"LEECC\",\"LHFUK\",\"EAMLC\",\"DFBUK\",\"LONGM\",\"LONHS\",\"LTNAP\",\"LONWD\",\"LONCF\",\"MCHEA\",\"MCHSK\",\"MLKEP\",\"GHNCL\",\"NCLJB\",\"NPTCS\",\"ORMGP\",\"PTRUK\",\"PMESP\",\"SOAUK\",\"SFFSO\",\"XVJUK\",\"SIRUK\",\"XWHUK\",\"SWSSA\",\"SWIWE\",\"TNTUK\",\"WARUK\",\"BHXSH\",\"EDBRM\",\"PTLDU\",\"DNFUK\"]"
   ]
  },
  {
   "cell_type": "code",
   "execution_count": 31,
   "metadata": {},
   "outputs": [],
   "source": [
    "def missing_files(dir):\n",
    "    dir_contents = os.listdir(dir)\n",
    "\n",
    "    for f, hotel_code in enumerate(dir_contents):\n",
    "        if dir_contents[f] == hotel_code:\n",
    "            dir_contents[f] = hotel_code[:5]\n",
    "   \n",
    "    missing_data = list(set(dir_contents).symmetric_difference(set(hotel_list)))\n",
    "\n",
    "    if len(missing_data) == 0:\n",
    "        print(\"No missing files\" + ' ' + 'in' + ' ' + dir)\n",
    "    else:\n",
    "        print(dir)\n",
    "        print(missing_data)\n",
    "        "
   ]
  },
  {
   "cell_type": "code",
   "execution_count": 32,
   "metadata": {},
   "outputs": [
    {
     "name": "stdout",
     "output_type": "stream",
     "text": [
      "No missing files in V:\\Data & Analytics\\Allotments\\Data\n",
      "V:\\Data & Analytics\\Arrivals\n",
      "['RateC', 'Outpu']\n",
      "V:\\Data & Analytics\\Conference Data\\Daily Reports\n",
      "['DFBUK', 'EXTCC', 'LHFUK', 'CBGCC', 'LONWD', 'EDBLH', 'QQZBA', 'LONHS', 'INVUK', 'confe', 'PMESP', 'MCHEA', 'DNFUK', 'LTNSP', 'OXFBR', 'SIRUK', 'BRSNR', 'XQDBF', 'EXEUK', 'XWHUK', 'PTRUK', 'TNTUK', 'WARUK', 'PTLDU', 'BFYVL', 'GLWST', 'LEECC', 'EDBUK', 'NCLJB', 'SOAUK', 'MCHSK', 'SWIWE', 'STDHM', 'LONCF', 'SFFSO', 'SWSSA', 'BRSCT', 'EDBRM', 'BHXBP', 'NPTCS', 'LTNAP', 'GHNCL', 'GLWAP', 'XVJUK', 'EAMLC']\n",
      "No missing files in V:\\Data & Analytics\\Created Report\\Data\\Current\n",
      "V:\\Data & Analytics\\SixYearAtlas\\Data\\2022\n",
      "['2022_']\n",
      "No missing files in V:\\Data & Analytics\\Departures\\Data\n",
      "No missing files in V:\\Data & Analytics\\Hist Journal Products\\Data\n",
      "No missing files in V:\\Data & Analytics\\Guest Ledger\\Data\n",
      "No missing files in V:\\Data & Analytics\\Finance\\Hist Journal Payments\\Data\n",
      "No missing files in V:\\Data & Analytics\\Departures\\Data Hist\n"
     ]
    }
   ],
   "source": [
    "missing_files('V:\\Data & Analytics\\Allotments\\Data')\n",
    "\n",
    "missing_files(\"V:\\Data & Analytics\\Arrivals\")\n",
    "\n",
    "missing_files('V:\\Data & Analytics\\Conference Data\\Daily Reports')\n",
    "\n",
    "missing_files('V:\\Data & Analytics\\Created Report\\Data\\Current')\n",
    "\n",
    "missing_files(\"V:\\\\Data & Analytics\\\\SixYearAtlas\\\\Data\\\\2022\")\n",
    "\n",
    "missing_files(\"V:\\Data & Analytics\\Departures\\Data\")\n",
    "\n",
    "missing_files('V:\\Data & Analytics\\Hist Journal Products\\Data')\n",
    "\n",
    "missing_files('V:\\Data & Analytics\\Guest Ledger\\Data')\n",
    "\n",
    "missing_files('V:\\Data & Analytics\\Finance\\Hist Journal Payments\\Data')\n",
    "\n",
    "missing_files(\"V:\\Data & Analytics\\Departures\\Data Hist\")"
   ]
  }
 ],
 "metadata": {
  "interpreter": {
   "hash": "d42165dacdca377a180620710ee113d7de2a3578c66853b7c94c4572f915a6d6"
  },
  "kernelspec": {
   "display_name": "Python 3.10.4 64-bit",
   "language": "python",
   "name": "python3"
  },
  "language_info": {
   "codemirror_mode": {
    "name": "ipython",
    "version": 3
   },
   "file_extension": ".py",
   "mimetype": "text/x-python",
   "name": "python",
   "nbconvert_exporter": "python",
   "pygments_lexer": "ipython3",
   "version": "3.10.4"
  },
  "orig_nbformat": 4
 },
 "nbformat": 4,
 "nbformat_minor": 2
}
