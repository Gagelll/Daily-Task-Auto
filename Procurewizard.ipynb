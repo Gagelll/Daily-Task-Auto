{
 "cells": [
  {
   "cell_type": "code",
   "execution_count": 1,
   "metadata": {},
   "outputs": [],
   "source": [
    "# pip install pywin32  #if you not installed yet\n",
    "import win32com.client\n",
    "from datetime import datetime\n",
    "import datetime\n",
    "import os\n",
    "import shutil\n",
    "import re\n",
    "import wget"
   ]
  },
  {
   "cell_type": "code",
   "execution_count": 2,
   "metadata": {},
   "outputs": [],
   "source": [
    "# set up connection to outlook\n",
    "outlook = win32com.client.Dispatch(\"Outlook.Application\").GetNamespace(\"MAPI\")\n",
    "\n",
    "# for sub folder, add <.folder(\"your folder name\")>\n",
    "inbox = outlook.GetDefaultFolder(6).folders(\"Procurement\")\n",
    "\n",
    "# Access to the email in the inbox\n",
    "messages = inbox.Items\n",
    "\n",
    "#Todays Date\n",
    "today_date = str(datetime.date.today())"
   ]
  },
  {
   "cell_type": "code",
   "execution_count": 3,
   "metadata": {},
   "outputs": [
    {
     "name": "stdout",
     "output_type": "stream",
     "text": [
      "2022-06-20\n",
      "https://s3-eu-west-1.amazonaws.com/pwdocuments/reports/uk/purchaser/62410/GoodsPurchased_1246484_06-20-202204-39-15.csv\n",
      "2022-06-20\n",
      "https://s3-eu-west-1.amazonaws.com/pwdocuments/reports/uk/purchaser/62410/GoodsPurchasedAnalysis_1246482_06-20-202204-33-54.csv\n",
      "2022-06-20\n",
      "https://s3-eu-west-1.amazonaws.com/pwdocuments/reports/uk/purchaser/62410/GoodsPurchased_1246423_06-20-202203-44-38.csv\n",
      "2022-06-20\n",
      "https://s3-eu-west-1.amazonaws.com/pwdocuments/reports/uk/purchaser/62410/GoodsPurchased_1246420_06-20-202203-34-07.csv\n",
      "2022-06-20\n",
      "https://s3-eu-west-1.amazonaws.com/pwdocuments/reports/uk/purchaser/62410/GoodsPurchasedAnalysis_1246493_06-20-202203-25-37.csv\n",
      "2022-06-20\n",
      "https://s3-eu-west-1.amazonaws.com/pwdocuments/reports/uk/purchaser/62410/GoodsPurchasedAnalysis_1246490_06-20-202203-18-07.csv\n",
      "2022-06-20\n",
      "https://s3-eu-west-1.amazonaws.com/pwdocuments/reports/uk/purchaser/62410/GoodsPurchasedAnalysis_1246469_06-20-202203-14-18.csv\n",
      "2022-06-20\n",
      "https://s3-eu-west-1.amazonaws.com/pwdocuments/reports/uk/purchaser/62410/ApprovalAudit_1246372_06-20-202203-02-14.csv\n",
      "2022-06-20\n",
      "https://s3-eu-west-1.amazonaws.com/pwdocuments/reports/uk/purchaser/62410/ApprovalAudit_1246361_06-20-202203-01-55.csv\n"
     ]
    }
   ],
   "source": [
    "try:\n",
    "    for message in messages:\n",
    "        sent_date = str(message.senton.date())\n",
    "        if sent_date == today_date:\n",
    "            print(sent_date)\n",
    "            x = message.body\n",
    "            link = re.findall('<(.*)>', x)\n",
    "            file = str(link[0])\n",
    "            print(file)\n",
    "            file_url = file\n",
    "            file_name = wget.download(file_url, 'V:\\Data & Analytics\\Procurement')\n",
    "except AttributeError:\n",
    "    print(\"No Sender\")"
   ]
  },
  {
   "cell_type": "code",
   "execution_count": 4,
   "metadata": {},
   "outputs": [],
   "source": [
    "path = \"V:\\Data & Analytics\\Procurement\"\n",
    "GoodsAnalysis = \"V:\\Data & Analytics\\Purchasing\\Goods Purchased Data\\Good Purchased Analysis\"\n",
    "ApprovalAudit =  \"V:\\Data & Analytics\\Purchasing\\Goods Purchased Data\\Approval Audit\"\n",
    "Goods = \"V:\\Data & Analytics\\Purchasing\\Goods Purchased Data\\GoodsPurchased\""
   ]
  },
  {
   "cell_type": "code",
   "execution_count": 5,
   "metadata": {},
   "outputs": [
    {
     "name": "stdout",
     "output_type": "stream",
     "text": [
      "ApprovalAudit_1246361_06-20-202203-01-55.csv has been moved\n",
      "ApprovalAudit_1246372_06-20-202203-02-14.csv has been moved\n",
      "GoodsPurchasedAnalysis_1246469_06-20-202203-14-18.csv has been moved\n",
      "GoodsPurchasedAnalysis_1246482_06-20-202204-33-54.csv has been moved\n",
      "GoodsPurchasedAnalysis_1246490_06-20-202203-18-07.csv has been moved\n",
      "GoodsPurchasedAnalysis_1246493_06-20-202203-25-37.csv has been moved\n",
      "GoodsPurchased_1246420_06-20-202203-34-07.csv has been moved\n",
      "GoodsPurchased_1246423_06-20-202203-44-38.csv has been moved\n",
      "GoodsPurchased_1246484_06-20-202204-39-15.csv has been moved\n"
     ]
    }
   ],
   "source": [
    "files = os.listdir(path)\n",
    "\n",
    "#loop through folder and move correct files\n",
    "try:\n",
    "    for filename in files:\n",
    "        if \"GoodsPurchasedAnalysis\" in filename:\n",
    "            shutil.move(path + '\\\\' + filename, GoodsAnalysis + '\\\\' + filename)\n",
    "            print(filename + ' ' + 'has been moved')\n",
    "        elif \"ApprovalAudit\" in filename:\n",
    "            shutil.move(path +'\\\\' + filename, ApprovalAudit + '\\\\' + filename)\n",
    "            print(filename + ' ' + 'has been moved')\n",
    "        elif \"GoodsPurchased\" in filename:\n",
    "            shutil.move(path + '\\\\' + filename, Goods + '\\\\' + filename)\n",
    "            print(filename + ' ' + 'has been moved')\n",
    "        else:\n",
    "            print('File Ignored')\n",
    "except AttributeError:\n",
    "    print('Error')"
   ]
  },
  {
   "cell_type": "code",
   "execution_count": 6,
   "metadata": {},
   "outputs": [
    {
     "name": "stdout",
     "output_type": "stream",
     "text": [
      "ApprovalAudit_1246361_06-20-202203-01-55.csv is present\n",
      "ApprovalAudit_1246372_06-20-202203-02-14.csv is present\n"
     ]
    }
   ],
   "source": [
    "today_date = str(datetime.date.today())\n",
    "\n",
    "path = 'V:\\Data & Analytics\\Purchasing\\Goods Purchased Data\\Approval Audit'\n",
    "\n",
    "audits = os.listdir(path)\n",
    "\n",
    "for file in audits:\n",
    "    lastmodified = os.stat(path + \"\\\\\" + file).st_mtime\n",
    "    date_modified = date_modified = str(datetime.date.fromtimestamp(lastmodified))\n",
    "    if date_modified !=  today_date:\n",
    "        os.remove(path + \"\\\\\" + file)\n",
    "        print(file + ' ' + 'deleted')\n",
    "    else:\n",
    "        print(file + ' ' + 'is present')"
   ]
  },
  {
   "cell_type": "code",
   "execution_count": 9,
   "metadata": {},
   "outputs": [
    {
     "name": "stdout",
     "output_type": "stream",
     "text": [
      "GoodsPurchased_1241033_06-15-202203-08-59.csv deleted\n",
      "GoodsPurchased_1241061_06-15-202203-03-01.csv deleted\n",
      "GoodsPurchased_1241063_06-15-202203-05-30.csv deleted\n",
      "GoodsPurchased_1241069_06-15-202203-03-43.csv deleted\n",
      "GoodsPurchased_1246420_06-20-202203-34-07.csv is present\n",
      "GoodsPurchased_1246423_06-20-202203-44-38.csv is present\n",
      "GoodsPurchased_1246484_06-20-202204-39-15.csv is present\n"
     ]
    }
   ],
   "source": [
    "today = datetime.date.today().isoweekday()\n",
    "\n",
    "if today == 1 or today == 3:\n",
    "\n",
    "    goods_purchased_path = 'V:\\Data & Analytics\\Purchasing\\Goods Purchased Data\\GoodsPurchased'\n",
    "\n",
    "    gp = os.listdir(goods_purchased_path)\n",
    "\n",
    "    for file in gp:\n",
    "            file_name = str(file)\n",
    "            lastmodified = os.stat(goods_purchased_path + \"\\\\\" + file).st_mtime\n",
    "            date_modified = date_modified = str(datetime.date.fromtimestamp(lastmodified))\n",
    "            if file_name == 'GoodsPurchased_2020.csv' or file_name == 'GoodsPurchased_2019.csv':\n",
    "                pass\n",
    "            else:\n",
    "                if date_modified !=  today_date:\n",
    "                    os.remove(goods_purchased_path + \"\\\\\" + file)\n",
    "                    print(file + ' ' + 'deleted')\n",
    "                else:\n",
    "                    print(file + ' ' + 'is present')\n",
    "else:\n",
    "    print('Wrong Day')"
   ]
  },
  {
   "cell_type": "code",
   "execution_count": 10,
   "metadata": {},
   "outputs": [
    {
     "name": "stdout",
     "output_type": "stream",
     "text": [
      "GoodsPurchasedAnalysis_1244188_06-17-202203-07-14.csv deleted\n",
      "GoodsPurchasedAnalysis_1244189_06-17-202203-10-17.csv deleted\n",
      "GoodsPurchasedAnalysis_1244196_06-17-202203-08-11.csv deleted\n",
      "GoodsPurchasedAnalysis_1244202_06-17-202203-13-56.csv deleted\n",
      "GoodsPurchasedAnalysis_1246469_06-20-202203-14-18.csv is present\n",
      "GoodsPurchasedAnalysis_1246482_06-20-202204-33-54.csv is present\n",
      "GoodsPurchasedAnalysis_1246490_06-20-202203-18-07.csv is present\n",
      "GoodsPurchasedAnalysis_1246493_06-20-202203-25-37.csv is present\n"
     ]
    }
   ],
   "source": [
    "analysis_path = 'V:\\Data & Analytics\\Purchasing\\Goods Purchased Data\\Good Purchased Analysis'\n",
    "\n",
    "gp = os.listdir(analysis_path)\n",
    "\n",
    "for file in gp:\n",
    "        file_name = str(file)\n",
    "        lastmodified = os.stat(analysis_path + \"\\\\\" + file).st_mtime\n",
    "        date_modified = date_modified = str(datetime.date.fromtimestamp(lastmodified))\n",
    "        if file_name == 'GoodsPurchasedAnalysis_2020.csv' or file_name == 'GoodsPurchasedAnalysis_2019.csv':\n",
    "            pass\n",
    "        else:\n",
    "            if date_modified !=  today_date:\n",
    "                os.remove(analysis_path + \"\\\\\" + file)\n",
    "                print(file + ' ' + 'deleted')\n",
    "            else:\n",
    "                print(file + ' ' + 'is present')"
   ]
  }
 ],
 "metadata": {
  "interpreter": {
   "hash": "d42165dacdca377a180620710ee113d7de2a3578c66853b7c94c4572f915a6d6"
  },
  "kernelspec": {
   "display_name": "Python 3.10.4 64-bit",
   "language": "python",
   "name": "python3"
  },
  "language_info": {
   "codemirror_mode": {
    "name": "ipython",
    "version": 3
   },
   "file_extension": ".py",
   "mimetype": "text/x-python",
   "name": "python",
   "nbconvert_exporter": "python",
   "pygments_lexer": "ipython3",
   "version": "3.10.4"
  },
  "orig_nbformat": 4
 },
 "nbformat": 4,
 "nbformat_minor": 2
}
