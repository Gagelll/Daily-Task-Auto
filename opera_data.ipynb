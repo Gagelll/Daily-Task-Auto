{
 "cells": [
  {
   "cell_type": "code",
   "execution_count": 1,
   "metadata": {},
   "outputs": [],
   "source": [
    "# pip install pywin32  #if you not installed yet\n",
    "import win32com.client\n",
    "import datetime\n",
    "import os"
   ]
  },
  {
   "cell_type": "code",
   "execution_count": 2,
   "metadata": {},
   "outputs": [],
   "source": [
    "# set up connection to outlook\n",
    "outlook = win32com.client.Dispatch(\"Outlook.Application\").GetNamespace(\"MAPI\")"
   ]
  },
  {
   "cell_type": "code",
   "execution_count": 3,
   "metadata": {},
   "outputs": [],
   "source": [
    "# for sub folder, add <.folder(\"your folder name\")>\n",
    "inbox = outlook.GetDefaultFolder(6).folders(\"Chardon\")"
   ]
  },
  {
   "cell_type": "code",
   "execution_count": 4,
   "metadata": {},
   "outputs": [
    {
     "name": "stdout",
     "output_type": "stream",
     "text": [
      "ediap20220606res_forecast11732001.txt has been saved\n",
      "ediap20220606res_statistics11732005.txt has been saved\n",
      "ediap20220606trial_balance1732002.txt has been saved\n",
      "ediap20220606manager_report1732003.txt has been saved\n",
      "glwgc20220606blocks6298160.xls has been saved\n",
      "glwth20220606blocks6298164.xls has been saved\n",
      "glwth20220606data16298163.txt has been saved\n",
      "glwgc20220606data16298165.txt has been saved\n",
      "glwth20220606data26298167.txt has been saved\n",
      "glwgc20220606data26298169.txt has been saved\n",
      "glwth20220606datafinancial6298171.txt has been saved\n",
      "glwth20220606trial_balance6298133.txt has been saved\n",
      "glwth20220606res_forecast16298088.txt has been saved\n",
      "glwgc20220606res_forecast16298086.txt has been saved\n",
      "glwgc20220606res_statistics16298085.txt has been saved\n",
      "glwth20220606res_statistics16298096.txt has been saved\n",
      "glwgc20220606trial_balance6298090.txt has been saved\n",
      "glwth20220606manager_report6298092.txt has been saved\n",
      "glwgc20220606manager_report6298084.txt has been saved\n"
     ]
    }
   ],
   "source": [
    "# Access to the email in the inbox\n",
    "messages = inbox.Items\n",
    "\n",
    "#Todays Date\n",
    "today_date = str(datetime.date.today())\n",
    "\n",
    "try:\n",
    "    for message in messages:\n",
    "        #check the date of the email to only pull todays files\n",
    "        if str(message.senton.date()) == today_date:\n",
    "            attachments = message.Attachments\n",
    "            attachment = attachments.Item(1)\n",
    "            attachment_name = str(attachment).lower()\n",
    "            if 'ediap' in attachment_name:\n",
    "                if 'forecast' in attachment_name:\n",
    "                    attachment.SaveASfile(\"V:\\\\Data & Analytics\\\\Scheduling\\\\EDIAP files\\\\Forecast\"+ '\\\\' + attachment_name)\n",
    "                    print(attachment_name + ' ' + 'has been saved')\n",
    "                elif 'statistics' in attachment_name:\n",
    "                    attachment.SaveASfile(\"V:\\\\Data & Analytics\\\\Scheduling\\\\EDIAP files\\\\Actuals\"+ '\\\\' + attachment_name)\n",
    "                    print(attachment_name + ' ' + 'has been saved')\n",
    "                elif 'manager_report' in attachment_name:\n",
    "                    attachment.SaveASfile(\"V:\\\\Accounts\\\\2022\\\\Chardon\\\\Holiday Inn Express Edinburgh Airport\\\\Data and Analytics\\\\Managers Flash\\\\05 May 2022\"+ '\\\\' + attachment_name)\n",
    "                    print(attachment_name + ' ' + 'has been saved')\n",
    "                elif 'trial_balance' in attachment_name:\n",
    "                    attachment.SaveASfile(\"V:\\\\Accounts\\\\2022\\\\Chardon\\\\Holiday Inn Express Edinburgh Airport\\\\Data and Analytics\\\\Trial Balance\\\\05 May 2022\"+ '\\\\' + attachment_name)\n",
    "                    print(attachment_name + ' ' + 'has been saved')\n",
    "                elif 'data' and 'blocks' in attachment_name:\n",
    "                    attachment.SaveASfile(\"V:\\\\Data & Analytics\\\\Opera Data\"+ '\\\\' + attachment_name)\n",
    "                    print(attachment_name + ' ' + 'has been saved')\n",
    "                else:\n",
    "                    (attachment_name + ' ' + 'has been ignored')\n",
    "            elif 'glwth' in attachment_name:\n",
    "                if 'forecast' in attachment_name:\n",
    "                    attachment.SaveASfile(\"V:\\\\Data & Analytics\\\\Scheduling\\\\GLWTH files\\\\Forecast\"+ '\\\\' + attachment_name)\n",
    "                    print(attachment_name + ' ' + 'has been saved')\n",
    "                elif 'statistics' in attachment_name:\n",
    "                    attachment.SaveASfile(\"V:\\\\Data & Analytics\\\\Scheduling\\\\GLWTH files\\\\Actuals\"+ '\\\\' + attachment_name)\n",
    "                    print(attachment_name + ' ' + 'has been saved')\n",
    "                elif 'manager_report' in attachment_name:\n",
    "                    attachment.SaveASfile(\"V:\\\\Accounts\\\\2022\\\\Chardon\\\\Holiday Inn Express Theatreland Glasgow\\\\Data and Analytics\\\\Managers Flash\\\\05 May 2022\"+ '\\\\' + attachment_name)\n",
    "                    print(attachment_name + ' ' + 'has been saved')\n",
    "                elif 'trial_balance' in attachment_name:\n",
    "                    attachment.SaveASfile(\"V:\\\\Accounts\\\\2022\\\\Chardon\\\\Holiday Inn Express Theatreland Glasgow\\\\Data and Analytics\\\\Trial Balance\\\\05 May 2022\"+ '\\\\' + attachment_name)\n",
    "                    print(attachment_name + ' ' + 'has been saved')\n",
    "                elif 'data' in attachment_name:\n",
    "                    attachment.SaveASfile(\"V:\\\\Data & Analytics\\\\Opera Data\"+ '\\\\' + attachment_name)\n",
    "                    print(attachment_name + ' ' + 'has been saved')\n",
    "                elif 'blocks' in attachment_name:\n",
    "                    attachment.SaveASfile(\"V:\\\\Data & Analytics\\\\Opera Data\"+ '\\\\' + attachment_name)\n",
    "                    print(attachment_name + ' ' + 'has been saved')\n",
    "                else:\n",
    "                    (attachment_name + ' ' + 'has been ignored')\n",
    "            elif 'glwgc' in attachment_name:\n",
    "                if 'forecast' in attachment_name:\n",
    "                    attachment.SaveASfile(\"V:\\\\Data & Analytics\\\\Scheduling\\\\GLWGC files\\\\Forecast\"+ '\\\\' + attachment_name)\n",
    "                    print(attachment_name + ' ' + 'has been saved')\n",
    "                elif 'statistics' in attachment_name:\n",
    "                    attachment.SaveASfile(\"V:\\\\Data & Analytics\\\\Scheduling\\\\GLWGC files\\\\Actuals\"+ '\\\\' + attachment_name)\n",
    "                    print(attachment_name + ' ' + 'has been saved')\n",
    "                elif 'manager_report' in attachment_name:\n",
    "                    attachment.SaveASfile(\"V:\\\\Accounts\\\\2022\\\\Chardon\\\\Holiday Inn Theatreland Glasgow\\\\Data and Analytics\\\\Managers Flash\\\\05 May 2022\"+ '\\\\' + attachment_name)\n",
    "                    print(attachment_name + ' ' + 'has been saved')\n",
    "                elif 'trial_balance' in attachment_name:\n",
    "                    attachment.SaveASfile(\"V:\\\\Accounts\\\\2022\\\\Chardon\\\\Holiday Inn Theatreland Glasgow\\\\Data and Analytics\\\\Trial Balance\\\\05 May 2022\"+ '\\\\' + attachment_name)\n",
    "                    print(attachment_name + ' ' + 'has been saved')\n",
    "                elif 'data' in attachment_name:\n",
    "                    attachment.SaveASfile(\"V:\\\\Data & Analytics\\\\Opera Data\"+ '\\\\' + attachment_name)\n",
    "                    print(attachment_name + ' ' + 'has been saved')\n",
    "                elif 'blocks' in attachment_name:\n",
    "                    attachment.SaveASfile(\"V:\\\\Data & Analytics\\\\Opera Data\"+ '\\\\' + attachment_name)\n",
    "                    print(attachment_name + ' ' + 'has been saved')\n",
    "                else:\n",
    "                    (attachment_name + ' ' + 'has been ignored')\n",
    "except AttributeError:\n",
    "    print(\"Email doesn't exist\")\n",
    "\n",
    "                \n",
    "\n",
    "\n"
   ]
  },
  {
   "cell_type": "code",
   "execution_count": 5,
   "metadata": {},
   "outputs": [
    {
     "name": "stdout",
     "output_type": "stream",
     "text": [
      "file deleted\n",
      "No files to delete\n",
      "file deleted\n",
      "No files to delete\n",
      "file deleted\n",
      "No files to delete\n",
      "file deleted\n",
      "No files to delete\n",
      "file deleted\n",
      "No files to delete\n",
      "file deleted\n",
      "No files to delete\n"
     ]
    }
   ],
   "source": [
    "def delete_yesterdays_data(hotel_code, data):\n",
    "    path = 'V:\\\\Data & Analytics\\\\Scheduling\\\\' + hotel_code + ' ' + 'Files\\\\' + data\n",
    "    dir = os.listdir(path)\n",
    "    for file in dir:\n",
    "        lastmodified = os.stat(path + \"\\\\\" + file).st_mtime\n",
    "        date_modified = str(datetime.date.fromtimestamp(lastmodified))\n",
    "        if date_modified != today_date:\n",
    "            os.remove(path + \"\\\\\" + file)\n",
    "            print('file deleted')\n",
    "        else:\n",
    "            print('No files to delete')\n",
    "\n",
    "delete_yesterdays_data('GLWGC', 'Actuals')\n",
    "\n",
    "delete_yesterdays_data('GLWGC', 'Forecast')\n",
    "\n",
    "delete_yesterdays_data('GLWTH', 'Actuals')\n",
    "\n",
    "delete_yesterdays_data('GLWTH', 'Forecast')\n",
    "\n",
    "delete_yesterdays_data('EDIAP', 'Actuals')\n",
    "\n",
    "delete_yesterdays_data('EDIAP', 'Forecast')\n",
    "\n"
   ]
  }
 ],
 "metadata": {
  "interpreter": {
   "hash": "d42165dacdca377a180620710ee113d7de2a3578c66853b7c94c4572f915a6d6"
  },
  "kernelspec": {
   "display_name": "Python 3.10.4 64-bit",
   "language": "python",
   "name": "python3"
  },
  "language_info": {
   "codemirror_mode": {
    "name": "ipython",
    "version": 3
   },
   "file_extension": ".py",
   "mimetype": "text/x-python",
   "name": "python",
   "nbconvert_exporter": "python",
   "pygments_lexer": "ipython3",
   "version": "3.10.4"
  },
  "orig_nbformat": 4
 },
 "nbformat": 4,
 "nbformat_minor": 2
}
