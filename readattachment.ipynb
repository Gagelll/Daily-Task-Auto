{
 "cells": [
  {
   "cell_type": "code",
   "execution_count": 10,
   "metadata": {},
   "outputs": [],
   "source": [
    "import win32com.client\n",
    "import datetime\n",
    "import pandas as pd"
   ]
  },
  {
   "cell_type": "code",
   "execution_count": 11,
   "metadata": {},
   "outputs": [],
   "source": [
    "# set up connection to outlook\n",
    "outlook = win32com.client.Dispatch(\"Outlook.Application\").GetNamespace(\"MAPI\")"
   ]
  },
  {
   "cell_type": "code",
   "execution_count": 12,
   "metadata": {},
   "outputs": [],
   "source": [
    "# for sub folder, add <.folder(\"your folder name\")>\n",
    "inbox = outlook.GetDefaultFolder(6).folders(\"Chardon\")"
   ]
  },
  {
   "cell_type": "code",
   "execution_count": 13,
   "metadata": {},
   "outputs": [],
   "source": [
    "# Access to the email in the inbox\n",
    "messages = inbox.Items\n",
    "\n",
    "#Todays Date\n",
    "today_date = str(datetime.date.today())"
   ]
  },
  {
   "cell_type": "code",
   "execution_count": 18,
   "metadata": {},
   "outputs": [
    {
     "name": "stdout",
     "output_type": "stream",
     "text": [
      "Attachment has been saved\n"
     ]
    }
   ],
   "source": [
    "firstmessage = messages.GetFirst()\n",
    "\n",
    "if str(firstmessage.senton.date()) == today_date:\n",
    "        #returns the first attachment\n",
    "        attachments = firstmessage.Attachments\n",
    "        attachment = attachments.Item(1)\n",
    "        attachment_name = str(attachment).lower()\n",
    "        attachment.SaveASfile(\"V:\\\\Data & Analytics\\\\Sandbox\\\\Gage\\\\Practice_py\"+ '\\\\' + attachment_name)\n",
    "        print(\"Attachment has been saved\")"
   ]
  },
  {
   "cell_type": "code",
   "execution_count": 21,
   "metadata": {},
   "outputs": [
    {
     "name": "stdout",
     "output_type": "stream",
     "text": [
      "                 RESORT        BUSINESS_DATE CHAR_BUSINESS_DATE MARKET_CODE  \\\n",
      "0                 EDIAP            01-JAN-22           01-01-22           A   \n",
      "1                 EDIAP            01-JAN-22           01-01-22           B   \n",
      "2                 EDIAP            01-JAN-22           01-01-22           C   \n",
      "3                 EDIAP            01-JAN-22           01-01-22           D   \n",
      "4                 EDIAP            01-JAN-22           01-01-22           G   \n",
      "...                 ...                  ...                ...         ...   \n",
      "2437              EDIAP            02-MAY-22           02-05-22           W   \n",
      "2438              EDIAP            02-MAY-22           02-05-22           X   \n",
      "2439              EDIAP            02-MAY-22           02-05-22           Y   \n",
      "2440  S_DEF_ROOM_REPORT         S_REV_REPORT               LOGO   GUEST_REP   \n",
      "2441               2870  565028.698333333405                NaN        5525   \n",
      "\n",
      "       CF_MASTER_SEQ      GROUP_NAME           S_REV_MKT     S_DEF_ROOMS_MKT  \\\n",
      "0                  A               A    20935.1666666667                 222   \n",
      "1                  B               B  64637.805000000014                 647   \n",
      "2                  C               C   3086.444444444452                  40   \n",
      "3                  D               D  62801.196111111098                 707   \n",
      "4                  G               G    516.035555555555                   7   \n",
      "...              ...             ...                 ...                 ...   \n",
      "2437               W               W  34856.623888888914                 539   \n",
      "2438               X               X  18647.609999999996                 159   \n",
      "2439               Y               Y   1918.941111111106                  23   \n",
      "2440  SINGLE_OCC_REP  DOUBLE_OCC_REP       FB_REV_REPORT     MISC_REV_REPORT   \n",
      "2441             915            1955  64787.829999999869  31768.184444444619   \n",
      "\n",
      "                                S_FB_REV_MKT      S_MISC_REV_MKT  ...  \\\n",
      "0                           543.308333333332      4.166666666667  ...   \n",
      "1                         23301.848888888846   3821.540000000029  ...   \n",
      "2                           274.916666666667    222.500000000001  ...   \n",
      "3                          1464.119444444443   7378.057777777816  ...   \n",
      "4                             65.51111111111                   0  ...   \n",
      "...                                      ...                 ...  ...   \n",
      "2437                        319.452777777779  10479.921666666711  ...   \n",
      "2438                        938.355555555554   3085.416666666683  ...   \n",
      "2439                                       0                   0  ...   \n",
      "2440                        TOTAL_ARR_REPORT       PER_OCC_TOTAL  ...   \n",
      "2441  196.8741109175377717770034843205574913          24.2521548  ...   \n",
      "\n",
      "     OCC_SINGLE DOUBLE_OCC     REVENUE  FB_REV  OTHER_REV  TOTAL_REVENUE  \\\n",
      "0           0.0        0.0    0.000000     0.0   0.000000       0.000000   \n",
      "1           0.0        0.0    0.000000     0.0   0.000000       0.000000   \n",
      "2           0.0        0.0    0.000000     0.0   0.000000       0.000000   \n",
      "3           0.0        0.0    0.000000     0.0   0.000000       0.000000   \n",
      "4           0.0        0.0    0.000000     0.0   0.000000       0.000000   \n",
      "...         ...        ...         ...     ...        ...            ...   \n",
      "2437        0.0        6.0  501.841667     0.0  87.500000     589.341667   \n",
      "2438        0.0        2.0  207.483333     0.0  39.166667     246.650000   \n",
      "2439        0.0        0.0    0.000000     0.0   0.000000       0.000000   \n",
      "2440        NaN        NaN         NaN     NaN        NaN            NaN   \n",
      "2441        NaN        NaN         NaN     NaN        NaN            NaN   \n",
      "\n",
      "      RESORT_ROOM   PER_OCC     GET_ARR  MULTI_OCC_PER  \n",
      "0            97.0  0.000000    0.000000       0.000000  \n",
      "1            97.0  0.000000    0.000000       0.000000  \n",
      "2            97.0  0.000000    0.000000       0.000000  \n",
      "3            97.0  0.000000    0.000000       0.000000  \n",
      "4            97.0  0.000000    0.000000       0.000000  \n",
      "...           ...       ...         ...            ...  \n",
      "2437         97.0  6.185567   83.640278       6.185567  \n",
      "2438         97.0  2.061856  103.741667       2.061856  \n",
      "2439         97.0  0.000000    0.000000       0.000000  \n",
      "2440          NaN       NaN         NaN            NaN  \n",
      "2441          NaN       NaN         NaN            NaN  \n",
      "\n",
      "[2442 rows x 43 columns]\n"
     ]
    }
   ],
   "source": [
    "df = pd.read_csv(attachment_name, sep = '\\t')\n",
    "print(df)"
   ]
  }
 ],
 "metadata": {
  "interpreter": {
   "hash": "986793d5e4e02062d0c9d8c53aa2ac8b08360374fa4c9937dba41c9e59c491f0"
  },
  "kernelspec": {
   "display_name": "Python 3.9.7 ('base')",
   "language": "python",
   "name": "python3"
  },
  "language_info": {
   "codemirror_mode": {
    "name": "ipython",
    "version": 3
   },
   "file_extension": ".py",
   "mimetype": "text/x-python",
   "name": "python",
   "nbconvert_exporter": "python",
   "pygments_lexer": "ipython3",
   "version": "3.9.7"
  },
  "orig_nbformat": 4
 },
 "nbformat": 4,
 "nbformat_minor": 2
}
