{
 "cells": [
  {
   "cell_type": "code",
   "execution_count": 1,
   "metadata": {},
   "outputs": [],
   "source": [
    "# pip install pywin32  #if you not installed yet\n",
    "import win32com.client\n",
    "import datetime\n",
    "import os\n",
    "import shutil\n",
    "import re\n",
    "import wget"
   ]
  },
  {
   "cell_type": "code",
   "execution_count": 2,
   "metadata": {},
   "outputs": [],
   "source": [
    "# set up connection to outlook\n",
    "outlook = win32com.client.Dispatch(\"Outlook.Application\").GetNamespace(\"MAPI\")"
   ]
  },
  {
   "cell_type": "code",
   "execution_count": 3,
   "metadata": {},
   "outputs": [],
   "source": [
    "# for sub folder, add <.folder(\"your folder name\")>\n",
    "inbox = outlook.GetDefaultFolder(6).folders(\"Procurement\")"
   ]
  },
  {
   "cell_type": "code",
   "execution_count": 4,
   "metadata": {},
   "outputs": [
    {
     "name": "stdout",
     "output_type": "stream",
     "text": [
      "2022-05-11\n",
      "https://s3-eu-west-1.amazonaws.com/pwdocuments/reports/uk/purchaser/62410/GoodsPurchased_1192244_05-11-202203-13-59.csv\n",
      "2022-05-11\n",
      "https://s3-eu-west-1.amazonaws.com/pwdocuments/reports/uk/purchaser/62410/GoodsPurchased_1192240_05-11-202203-06-47.csv\n",
      "2022-05-11\n",
      "https://s3-eu-west-1.amazonaws.com/pwdocuments/reports/uk/purchaser/62410/GoodsPurchased_1192228_05-11-202203-05-31.csv\n",
      "2022-05-11\n",
      "https://s3-eu-west-1.amazonaws.com/pwdocuments/reports/uk/purchaser/62410/GoodsPurchasedAnalysis_1192209_05-11-202203-05-15.csv\n",
      "2022-05-11\n",
      "https://s3-eu-west-1.amazonaws.com/pwdocuments/reports/uk/purchaser/62410/GoodsPurchasedAnalysis_1192222_05-11-202203-04-59.csv\n",
      "2022-05-11\n",
      "https://s3-eu-west-1.amazonaws.com/pwdocuments/reports/uk/purchaser/62410/GoodsPurchasedAnalysis_1192238_05-11-202203-03-28.csv\n",
      "2022-05-11\n",
      "https://s3-eu-west-1.amazonaws.com/pwdocuments/reports/uk/purchaser/62410/ApprovalAudit_1192193_05-11-202203-02-31.csv\n",
      "2022-05-11\n",
      "https://s3-eu-west-1.amazonaws.com/pwdocuments/reports/uk/purchaser/62410/ApprovalAudit_1192182_05-11-202203-02-13.csv\n"
     ]
    }
   ],
   "source": [
    "# Access to the email in the inbox\n",
    "messages = inbox.Items\n",
    "\n",
    "#Todays Date\n",
    "today_date = str(datetime.date.today())\n",
    "\n",
    "try:\n",
    "    for message in messages:\n",
    "        sent_date = str(message.senton.date())\n",
    "        if sent_date == today_date:\n",
    "            print(sent_date)\n",
    "            x = message.body\n",
    "            link = re.findall('<(.*)>', x)\n",
    "            file = str(link[0])\n",
    "            print(file)\n",
    "            file_url = file\n",
    "            file_name = wget.download(file_url)\n",
    "except AttributeError:\n",
    "    print(\"No Sender\")\n",
    "\n",
    "#gets body of email\n",
    "# x = message.Body\n",
    "\n",
    "# #takes string between <>\n",
    "# link = re.findall('<(.*)>', x)\n",
    "\n",
    "# file = str(link[0])"
   ]
  },
  {
   "cell_type": "code",
   "execution_count": 7,
   "metadata": {},
   "outputs": [
    {
     "name": "stdout",
     "output_type": "stream",
     "text": [
      "File Ignored\n",
      "File Ignored\n",
      "File Ignored\n",
      "File Ignored\n",
      "GoodsPurchasedAnalysis_1192238_05-11-202203-03-28.csv has been moved\n",
      "GoodsPurchased_1192228_05-11-202203-05-31.csv has been moved\n",
      "GoodsPurchased_1192240_05-11-202203-06-47.csv has been moved\n",
      "GoodsPurchased_1192244_05-11-202203-13-59.csv has been moved\n",
      "File Ignored\n",
      "File Ignored\n",
      "File Ignored\n",
      "File Ignored\n",
      "File Ignored\n",
      "File Ignored\n",
      "File Ignored\n",
      "File Ignored\n",
      "File Ignored\n",
      "File Ignored\n",
      "File Ignored\n"
     ]
    }
   ],
   "source": [
    "#Target Directories\n",
    "path = \"V:\\Data & Analytics\\Sandbox\\Gage\\Practice_py\"\n",
    "GoodsAnalysis = \"V:\\Data & Analytics\\Purchasing\\Goods Purchased Data\\Good Purchased Analysis\"\n",
    "ApprovalAudit =  \"V:\\Data & Analytics\\Purchasing\\Goods Purchased Data\\Approval Audit\"\n",
    "Goods = \"V:\\Data & Analytics\\Purchasing\\Goods Purchased Data\\GoodsPurchased\"\n",
    "\n",
    "#List Directory\n",
    "files = os.listdir(path)\n",
    "\n",
    "#loop through folder and move correct files\n",
    "try:\n",
    "    for filename in files:\n",
    "        if \"GoodsPurchasedAnalysis\" in filename:\n",
    "            shutil.move(path + '\\\\' + filename, GoodsAnalysis + '\\\\' + filename)\n",
    "            print(filename + ' ' + 'has been moved')\n",
    "        elif \"ApprovalAudit\" in filename:\n",
    "            shutil.move(path +'\\\\' + filename, ApprovalAudit + '\\\\' + filename)\n",
    "            print(filename + ' ' + 'has been moved')\n",
    "        elif \"GoodsPurchased\" in filename:\n",
    "            shutil.move(path + '\\\\' + filename, Goods + '\\\\' + filename)\n",
    "            print(filename + ' ' + 'has been moved')\n",
    "        else:\n",
    "            print('File Ignored')\n",
    "except AttributeError:\n",
    "    print('Error')\n",
    "\n"
   ]
  }
 ],
 "metadata": {
  "interpreter": {
   "hash": "069458f81aa9e474150032e0515a87e83bda3a675d5b467e24a23c9bc6f21e92"
  },
  "kernelspec": {
   "display_name": "Python 3.9.7 ('base')",
   "language": "python",
   "name": "python3"
  },
  "language_info": {
   "codemirror_mode": {
    "name": "ipython",
    "version": 3
   },
   "file_extension": ".py",
   "mimetype": "text/x-python",
   "name": "python",
   "nbconvert_exporter": "python",
   "pygments_lexer": "ipython3",
   "version": "3.9.7"
  },
  "orig_nbformat": 4
 },
 "nbformat": 4,
 "nbformat_minor": 2
}
