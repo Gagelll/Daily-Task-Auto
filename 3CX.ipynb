{
 "cells": [
  {
   "cell_type": "code",
   "execution_count": 8,
   "metadata": {},
   "outputs": [],
   "source": [
    "# pip install pywin32  #if you not installed yet\n",
    "import win32com.client\n",
    "import datetime\n",
    "import os\n",
    "import shutil\n",
    "import re\n",
    "import wget\n",
    "from datetime import date, timedelta\n",
    "import calendar"
   ]
  },
  {
   "cell_type": "code",
   "execution_count": 11,
   "metadata": {},
   "outputs": [
    {
     "name": "stdout",
     "output_type": "stream",
     "text": [
      "2022-05-24\n",
      "Subject:   Your 3CX Report 3cx Daily Call Log Dump is ready \n",
      "Your call report - 3cx Daily Call Log Dump is ready for download. \n",
      "\n",
      "Download your report from here <https://url6b.mailanyone.net/v1/?m=1ntcZZ-0007E5-6E&i=57e1b682&c=PoclfsaLcN4OMYbpNaulzI6oKhoQI-t_C__darhCz4rbrj322zyLC_DBOibyL_G1D0jdm8tvxPptA9nAzbewxkfBbFAE2XpSgf0Y8iWFBqBgPGsR6O_-iHv3SXYL3TlAaEBMMqfFg4TdFoeBZ8qBZ9wcTeRiw4Njor_G0FLNq8eioACcIQO4qArJO3SRL9-uaKPYBALUeITvD-tvhGXqOptSetn8vuK_tVWqr3xpeYbSMXSAQoAhvEimwXNE966NpLqj4OPQWBPulUbyelBhHl91KeN-omNf9i9wHscOgaZVA0AqpXSGTBoMISK2AS_I> .\n",
      "If you are in the office you can also download it locally from here <https://url6b.mailanyone.net/v1/?m=1ntcZZ-0007E5-6E&i=57e1b682&c=wN5tnhPDjXw_c0yOiFwQZJYhS0ccXZoEJeJ5phgSTO6CkTN920iEL8oWRSHKNHT54jyF7xPRrzyKKOLHJwXew2eX5OkoghHCz5qMqBq97Agw3KokgaAfhDEEPQt1y-49gq71ndzB-oXhUDDxf_ZzFv90yqYgdmBWYPFJDezWUovZjksBgJ3bWRUL4iNfQyv6hE36SYBefuxHGkHTEU5ZeSQxPfNvmFpYQFlj_6tiiOzQUgWJ56mgl8jMMwSJNU4-VALu8xIfy0Y6hVfsLeBHICITluN4OCgeB5lVEiSuLRt8gvIRFH5rQQTkfQgUYPmz> . \n",
      "\n",
      "['https://url6b.mailanyone.net/v1/?m=1ntcZZ-0007E5-6E&i=57e1b682&c=PoclfsaLcN4OMYbpNaulzI6oKhoQI-t_C__darhCz4rbrj322zyLC_DBOibyL_G1D0jdm8tvxPptA9nAzbewxkfBbFAE2XpSgf0Y8iWFBqBgPGsR6O_-iHv3SXYL3TlAaEBMMqfFg4TdFoeBZ8qBZ9wcTeRiw4Njor_G0FLNq8eioACcIQO4qArJO3SRL9-uaKPYBALUeITvD-tvhGXqOptSetn8vuK_tVWqr3xpeYbSMXSAQoAhvEimwXNE966NpLqj4OPQWBPulUbyelBhHl91KeN-omNf9i9wHscOgaZVA0AqpXSGTBoMISK2AS_I', 'https://url6b.mailanyone.net/v1/?m=1ntcZZ-0007E5-6E&i=57e1b682&c=wN5tnhPDjXw_c0yOiFwQZJYhS0ccXZoEJeJ5phgSTO6CkTN920iEL8oWRSHKNHT54jyF7xPRrzyKKOLHJwXew2eX5OkoghHCz5qMqBq97Agw3KokgaAfhDEEPQt1y-49gq71ndzB-oXhUDDxf_ZzFv90yqYgdmBWYPFJDezWUovZjksBgJ3bWRUL4iNfQyv6hE36SYBefuxHGkHTEU5ZeSQxPfNvmFpYQFlj_6tiiOzQUgWJ56mgl8jMMwSJNU4-VALu8xIfy0Y6hVfsLeBHICITluN4OCgeB5lVEiSuLRt8gvIRFH5rQQTkfQgUYPmz']\n",
      "https://url6b.mailanyone.net/v1/?m=1ntcZZ-0007E5-6E&i=57e1b682&c=wN5tnhPDjXw_c0yOiFwQZJYhS0ccXZoEJeJ5phgSTO6CkTN920iEL8oWRSHKNHT54jyF7xPRrzyKKOLHJwXew2eX5OkoghHCz5qMqBq97Agw3KokgaAfhDEEPQt1y-49gq71ndzB-oXhUDDxf_ZzFv90yqYgdmBWYPFJDezWUovZjksBgJ3bWRUL4iNfQyv6hE36SYBefuxHGkHTEU5ZeSQxPfNvmFpYQFlj_6tiiOzQUgWJ56mgl8jMMwSJNU4-VALu8xIfy0Y6hVfsLeBHICITluN4OCgeB5lVEiSuLRt8gvIRFH5rQQTkfQgUYPmz\n"
     ]
    },
    {
     "ename": "HTTPError",
     "evalue": "HTTP Error 403: Forbidden",
     "output_type": "error",
     "traceback": [
      "\u001b[1;31m---------------------------------------------------------------------------\u001b[0m",
      "\u001b[1;31mHTTPError\u001b[0m                                 Traceback (most recent call last)",
      "\u001b[1;32mv:\\Data & Analytics\\Sandbox\\Gage\\Practice_py\\3CX.ipynb Cell 2'\u001b[0m in \u001b[0;36m<cell line: 14>\u001b[1;34m()\u001b[0m\n\u001b[0;32m     <a href='vscode-notebook-cell:/v%3A/Data%20%26%20Analytics/Sandbox/Gage/Practice_py/3CX.ipynb#ch0000001?line=23'>24</a>\u001b[0m             \u001b[39mprint\u001b[39m(file)\n\u001b[0;32m     <a href='vscode-notebook-cell:/v%3A/Data%20%26%20Analytics/Sandbox/Gage/Practice_py/3CX.ipynb#ch0000001?line=24'>25</a>\u001b[0m             file_url \u001b[39m=\u001b[39m file\n\u001b[1;32m---> <a href='vscode-notebook-cell:/v%3A/Data%20%26%20Analytics/Sandbox/Gage/Practice_py/3CX.ipynb#ch0000001?line=25'>26</a>\u001b[0m             file_name \u001b[39m=\u001b[39m wget\u001b[39m.\u001b[39;49mdownload(file_url, \u001b[39m'\u001b[39;49m\u001b[39mV:\u001b[39;49m\u001b[39m\\\u001b[39;49m\u001b[39mData & Analytics\u001b[39;49m\u001b[39m\\\u001b[39;49m\u001b[39mProcurement\u001b[39;49m\u001b[39m'\u001b[39;49m)\n\u001b[0;32m     <a href='vscode-notebook-cell:/v%3A/Data%20%26%20Analytics/Sandbox/Gage/Practice_py/3CX.ipynb#ch0000001?line=26'>27</a>\u001b[0m \u001b[39mexcept\u001b[39;00m \u001b[39mAttributeError\u001b[39;00m:\n\u001b[0;32m     <a href='vscode-notebook-cell:/v%3A/Data%20%26%20Analytics/Sandbox/Gage/Practice_py/3CX.ipynb#ch0000001?line=27'>28</a>\u001b[0m     \u001b[39mprint\u001b[39m(\u001b[39m\"\u001b[39m\u001b[39mNo Sender\u001b[39m\u001b[39m\"\u001b[39m)\n",
      "File \u001b[1;32mc:\\Users\\glorimer\\AppData\\Local\\Programs\\Python\\Python310\\lib\\site-packages\\wget.py:526\u001b[0m, in \u001b[0;36mdownload\u001b[1;34m(url, out, bar)\u001b[0m\n\u001b[0;32m    <a href='file:///c%3A/Users/glorimer/AppData/Local/Programs/Python/Python310/lib/site-packages/wget.py?line=523'>524</a>\u001b[0m \u001b[39melse\u001b[39;00m:\n\u001b[0;32m    <a href='file:///c%3A/Users/glorimer/AppData/Local/Programs/Python/Python310/lib/site-packages/wget.py?line=524'>525</a>\u001b[0m     binurl \u001b[39m=\u001b[39m url\n\u001b[1;32m--> <a href='file:///c%3A/Users/glorimer/AppData/Local/Programs/Python/Python310/lib/site-packages/wget.py?line=525'>526</a>\u001b[0m (tmpfile, headers) \u001b[39m=\u001b[39m ulib\u001b[39m.\u001b[39;49murlretrieve(binurl, tmpfile, callback)\n\u001b[0;32m    <a href='file:///c%3A/Users/glorimer/AppData/Local/Programs/Python/Python310/lib/site-packages/wget.py?line=526'>527</a>\u001b[0m filename \u001b[39m=\u001b[39m detect_filename(url, out, headers)\n\u001b[0;32m    <a href='file:///c%3A/Users/glorimer/AppData/Local/Programs/Python/Python310/lib/site-packages/wget.py?line=527'>528</a>\u001b[0m \u001b[39mif\u001b[39;00m outdir:\n",
      "File \u001b[1;32mc:\\Users\\glorimer\\AppData\\Local\\Programs\\Python\\Python310\\lib\\urllib\\request.py:241\u001b[0m, in \u001b[0;36murlretrieve\u001b[1;34m(url, filename, reporthook, data)\u001b[0m\n\u001b[0;32m    <a href='file:///c%3A/Users/glorimer/AppData/Local/Programs/Python/Python310/lib/urllib/request.py?line=223'>224</a>\u001b[0m \u001b[39m\"\"\"\u001b[39;00m\n\u001b[0;32m    <a href='file:///c%3A/Users/glorimer/AppData/Local/Programs/Python/Python310/lib/urllib/request.py?line=224'>225</a>\u001b[0m \u001b[39mRetrieve a URL into a temporary location on disk.\u001b[39;00m\n\u001b[0;32m    <a href='file:///c%3A/Users/glorimer/AppData/Local/Programs/Python/Python310/lib/urllib/request.py?line=225'>226</a>\u001b[0m \n\u001b[1;32m   (...)\u001b[0m\n\u001b[0;32m    <a href='file:///c%3A/Users/glorimer/AppData/Local/Programs/Python/Python310/lib/urllib/request.py?line=236'>237</a>\u001b[0m \u001b[39mdata file as well as the resulting HTTPMessage object.\u001b[39;00m\n\u001b[0;32m    <a href='file:///c%3A/Users/glorimer/AppData/Local/Programs/Python/Python310/lib/urllib/request.py?line=237'>238</a>\u001b[0m \u001b[39m\"\"\"\u001b[39;00m\n\u001b[0;32m    <a href='file:///c%3A/Users/glorimer/AppData/Local/Programs/Python/Python310/lib/urllib/request.py?line=238'>239</a>\u001b[0m url_type, path \u001b[39m=\u001b[39m _splittype(url)\n\u001b[1;32m--> <a href='file:///c%3A/Users/glorimer/AppData/Local/Programs/Python/Python310/lib/urllib/request.py?line=240'>241</a>\u001b[0m \u001b[39mwith\u001b[39;00m contextlib\u001b[39m.\u001b[39mclosing(urlopen(url, data)) \u001b[39mas\u001b[39;00m fp:\n\u001b[0;32m    <a href='file:///c%3A/Users/glorimer/AppData/Local/Programs/Python/Python310/lib/urllib/request.py?line=241'>242</a>\u001b[0m     headers \u001b[39m=\u001b[39m fp\u001b[39m.\u001b[39minfo()\n\u001b[0;32m    <a href='file:///c%3A/Users/glorimer/AppData/Local/Programs/Python/Python310/lib/urllib/request.py?line=243'>244</a>\u001b[0m     \u001b[39m# Just return the local path and the \"headers\" for file://\u001b[39;00m\n\u001b[0;32m    <a href='file:///c%3A/Users/glorimer/AppData/Local/Programs/Python/Python310/lib/urllib/request.py?line=244'>245</a>\u001b[0m     \u001b[39m# URLs. No sense in performing a copy unless requested.\u001b[39;00m\n",
      "File \u001b[1;32mc:\\Users\\glorimer\\AppData\\Local\\Programs\\Python\\Python310\\lib\\urllib\\request.py:216\u001b[0m, in \u001b[0;36murlopen\u001b[1;34m(url, data, timeout, cafile, capath, cadefault, context)\u001b[0m\n\u001b[0;32m    <a href='file:///c%3A/Users/glorimer/AppData/Local/Programs/Python/Python310/lib/urllib/request.py?line=213'>214</a>\u001b[0m \u001b[39melse\u001b[39;00m:\n\u001b[0;32m    <a href='file:///c%3A/Users/glorimer/AppData/Local/Programs/Python/Python310/lib/urllib/request.py?line=214'>215</a>\u001b[0m     opener \u001b[39m=\u001b[39m _opener\n\u001b[1;32m--> <a href='file:///c%3A/Users/glorimer/AppData/Local/Programs/Python/Python310/lib/urllib/request.py?line=215'>216</a>\u001b[0m \u001b[39mreturn\u001b[39;00m opener\u001b[39m.\u001b[39;49mopen(url, data, timeout)\n",
      "File \u001b[1;32mc:\\Users\\glorimer\\AppData\\Local\\Programs\\Python\\Python310\\lib\\urllib\\request.py:525\u001b[0m, in \u001b[0;36mOpenerDirector.open\u001b[1;34m(self, fullurl, data, timeout)\u001b[0m\n\u001b[0;32m    <a href='file:///c%3A/Users/glorimer/AppData/Local/Programs/Python/Python310/lib/urllib/request.py?line=522'>523</a>\u001b[0m \u001b[39mfor\u001b[39;00m processor \u001b[39min\u001b[39;00m \u001b[39mself\u001b[39m\u001b[39m.\u001b[39mprocess_response\u001b[39m.\u001b[39mget(protocol, []):\n\u001b[0;32m    <a href='file:///c%3A/Users/glorimer/AppData/Local/Programs/Python/Python310/lib/urllib/request.py?line=523'>524</a>\u001b[0m     meth \u001b[39m=\u001b[39m \u001b[39mgetattr\u001b[39m(processor, meth_name)\n\u001b[1;32m--> <a href='file:///c%3A/Users/glorimer/AppData/Local/Programs/Python/Python310/lib/urllib/request.py?line=524'>525</a>\u001b[0m     response \u001b[39m=\u001b[39m meth(req, response)\n\u001b[0;32m    <a href='file:///c%3A/Users/glorimer/AppData/Local/Programs/Python/Python310/lib/urllib/request.py?line=526'>527</a>\u001b[0m \u001b[39mreturn\u001b[39;00m response\n",
      "File \u001b[1;32mc:\\Users\\glorimer\\AppData\\Local\\Programs\\Python\\Python310\\lib\\urllib\\request.py:634\u001b[0m, in \u001b[0;36mHTTPErrorProcessor.http_response\u001b[1;34m(self, request, response)\u001b[0m\n\u001b[0;32m    <a href='file:///c%3A/Users/glorimer/AppData/Local/Programs/Python/Python310/lib/urllib/request.py?line=630'>631</a>\u001b[0m \u001b[39m# According to RFC 2616, \"2xx\" code indicates that the client's\u001b[39;00m\n\u001b[0;32m    <a href='file:///c%3A/Users/glorimer/AppData/Local/Programs/Python/Python310/lib/urllib/request.py?line=631'>632</a>\u001b[0m \u001b[39m# request was successfully received, understood, and accepted.\u001b[39;00m\n\u001b[0;32m    <a href='file:///c%3A/Users/glorimer/AppData/Local/Programs/Python/Python310/lib/urllib/request.py?line=632'>633</a>\u001b[0m \u001b[39mif\u001b[39;00m \u001b[39mnot\u001b[39;00m (\u001b[39m200\u001b[39m \u001b[39m<\u001b[39m\u001b[39m=\u001b[39m code \u001b[39m<\u001b[39m \u001b[39m300\u001b[39m):\n\u001b[1;32m--> <a href='file:///c%3A/Users/glorimer/AppData/Local/Programs/Python/Python310/lib/urllib/request.py?line=633'>634</a>\u001b[0m     response \u001b[39m=\u001b[39m \u001b[39mself\u001b[39;49m\u001b[39m.\u001b[39;49mparent\u001b[39m.\u001b[39;49merror(\n\u001b[0;32m    <a href='file:///c%3A/Users/glorimer/AppData/Local/Programs/Python/Python310/lib/urllib/request.py?line=634'>635</a>\u001b[0m         \u001b[39m'\u001b[39;49m\u001b[39mhttp\u001b[39;49m\u001b[39m'\u001b[39;49m, request, response, code, msg, hdrs)\n\u001b[0;32m    <a href='file:///c%3A/Users/glorimer/AppData/Local/Programs/Python/Python310/lib/urllib/request.py?line=636'>637</a>\u001b[0m \u001b[39mreturn\u001b[39;00m response\n",
      "File \u001b[1;32mc:\\Users\\glorimer\\AppData\\Local\\Programs\\Python\\Python310\\lib\\urllib\\request.py:563\u001b[0m, in \u001b[0;36mOpenerDirector.error\u001b[1;34m(self, proto, *args)\u001b[0m\n\u001b[0;32m    <a href='file:///c%3A/Users/glorimer/AppData/Local/Programs/Python/Python310/lib/urllib/request.py?line=560'>561</a>\u001b[0m \u001b[39mif\u001b[39;00m http_err:\n\u001b[0;32m    <a href='file:///c%3A/Users/glorimer/AppData/Local/Programs/Python/Python310/lib/urllib/request.py?line=561'>562</a>\u001b[0m     args \u001b[39m=\u001b[39m (\u001b[39mdict\u001b[39m, \u001b[39m'\u001b[39m\u001b[39mdefault\u001b[39m\u001b[39m'\u001b[39m, \u001b[39m'\u001b[39m\u001b[39mhttp_error_default\u001b[39m\u001b[39m'\u001b[39m) \u001b[39m+\u001b[39m orig_args\n\u001b[1;32m--> <a href='file:///c%3A/Users/glorimer/AppData/Local/Programs/Python/Python310/lib/urllib/request.py?line=562'>563</a>\u001b[0m     \u001b[39mreturn\u001b[39;00m \u001b[39mself\u001b[39;49m\u001b[39m.\u001b[39;49m_call_chain(\u001b[39m*\u001b[39;49margs)\n",
      "File \u001b[1;32mc:\\Users\\glorimer\\AppData\\Local\\Programs\\Python\\Python310\\lib\\urllib\\request.py:496\u001b[0m, in \u001b[0;36mOpenerDirector._call_chain\u001b[1;34m(self, chain, kind, meth_name, *args)\u001b[0m\n\u001b[0;32m    <a href='file:///c%3A/Users/glorimer/AppData/Local/Programs/Python/Python310/lib/urllib/request.py?line=493'>494</a>\u001b[0m \u001b[39mfor\u001b[39;00m handler \u001b[39min\u001b[39;00m handlers:\n\u001b[0;32m    <a href='file:///c%3A/Users/glorimer/AppData/Local/Programs/Python/Python310/lib/urllib/request.py?line=494'>495</a>\u001b[0m     func \u001b[39m=\u001b[39m \u001b[39mgetattr\u001b[39m(handler, meth_name)\n\u001b[1;32m--> <a href='file:///c%3A/Users/glorimer/AppData/Local/Programs/Python/Python310/lib/urllib/request.py?line=495'>496</a>\u001b[0m     result \u001b[39m=\u001b[39m func(\u001b[39m*\u001b[39;49margs)\n\u001b[0;32m    <a href='file:///c%3A/Users/glorimer/AppData/Local/Programs/Python/Python310/lib/urllib/request.py?line=496'>497</a>\u001b[0m     \u001b[39mif\u001b[39;00m result \u001b[39mis\u001b[39;00m \u001b[39mnot\u001b[39;00m \u001b[39mNone\u001b[39;00m:\n\u001b[0;32m    <a href='file:///c%3A/Users/glorimer/AppData/Local/Programs/Python/Python310/lib/urllib/request.py?line=497'>498</a>\u001b[0m         \u001b[39mreturn\u001b[39;00m result\n",
      "File \u001b[1;32mc:\\Users\\glorimer\\AppData\\Local\\Programs\\Python\\Python310\\lib\\urllib\\request.py:643\u001b[0m, in \u001b[0;36mHTTPDefaultErrorHandler.http_error_default\u001b[1;34m(self, req, fp, code, msg, hdrs)\u001b[0m\n\u001b[0;32m    <a href='file:///c%3A/Users/glorimer/AppData/Local/Programs/Python/Python310/lib/urllib/request.py?line=641'>642</a>\u001b[0m \u001b[39mdef\u001b[39;00m \u001b[39mhttp_error_default\u001b[39m(\u001b[39mself\u001b[39m, req, fp, code, msg, hdrs):\n\u001b[1;32m--> <a href='file:///c%3A/Users/glorimer/AppData/Local/Programs/Python/Python310/lib/urllib/request.py?line=642'>643</a>\u001b[0m     \u001b[39mraise\u001b[39;00m HTTPError(req\u001b[39m.\u001b[39mfull_url, code, msg, hdrs, fp)\n",
      "\u001b[1;31mHTTPError\u001b[0m: HTTP Error 403: Forbidden"
     ]
    }
   ],
   "source": [
    "# set up connection to outlook\n",
    "outlook = win32com.client.Dispatch(\"Outlook.Application\").GetNamespace(\"MAPI\")\n",
    "\n",
    "# for sub folder, add <.folder(\"your folder name\")>\n",
    "inbox = outlook.GetDefaultFolder(6)\n",
    "\n",
    "# Access to the email in the inbox\n",
    "messages = inbox.Items\n",
    "\n",
    "my_date = date.today()\n",
    "\n",
    "yesterday = str(my_date + timedelta(days=-1))\n",
    "\n",
    "try:\n",
    "    for message in messages:\n",
    "        sent_date = str(message.senton.date())\n",
    "        if sent_date == yesterday and message.subject == \"Your 3CX Report 3cx Daily Call Log Dump is ready\":\n",
    "            print(sent_date)\n",
    "            x = message.body\n",
    "            print(x)\n",
    "            link = re.findall('<(.*)>', x)\n",
    "            print(link)\n",
    "            file = str(link[1])\n",
    "            print(file)\n",
    "            file_url = file\n",
    "            file_name = wget.download(file_url, 'V:\\Data & Analytics\\Procurement')\n",
    "except AttributeError:\n",
    "    print(\"No Sender\")"
   ]
  }
 ],
 "metadata": {
  "interpreter": {
   "hash": "d42165dacdca377a180620710ee113d7de2a3578c66853b7c94c4572f915a6d6"
  },
  "kernelspec": {
   "display_name": "Python 3.10.4 64-bit",
   "language": "python",
   "name": "python3"
  },
  "language_info": {
   "codemirror_mode": {
    "name": "ipython",
    "version": 3
   },
   "file_extension": ".py",
   "mimetype": "text/x-python",
   "name": "python",
   "nbconvert_exporter": "python",
   "pygments_lexer": "ipython3",
   "version": "3.10.4"
  },
  "orig_nbformat": 4
 },
 "nbformat": 4,
 "nbformat_minor": 2
}
