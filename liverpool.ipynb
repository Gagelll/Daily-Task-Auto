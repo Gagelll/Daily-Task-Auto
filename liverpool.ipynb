{
 "cells": [
  {
   "cell_type": "code",
   "execution_count": 1,
   "metadata": {},
   "outputs": [],
   "source": [
    "import win32com.client\n",
    "import datetime\n",
    "import os\n",
    "import glob\n",
    "import openpyxl"
   ]
  },
  {
   "cell_type": "code",
   "execution_count": 4,
   "metadata": {},
   "outputs": [],
   "source": [
    "#Empty dirty file folder for speed\n",
    "dir = \"V:\\Data & Analytics\\Dirty_Files\"\n",
    "\n",
    "dir_contents = os.listdir(dir)\n",
    "\n",
    "for file in dir_contents:\n",
    "    os.remove(dir + '\\\\' +file)"
   ]
  },
  {
   "cell_type": "code",
   "execution_count": 3,
   "metadata": {},
   "outputs": [],
   "source": [
    "# set up connection to outlook\n",
    "outlook = win32com.client.Dispatch(\"Outlook.Application\").GetNamespace(\"MAPI\")\n",
    "\n",
    "# for sub folder, add <.folder(\"your folder name\")>\n",
    "inbox = outlook.GetDefaultFolder(6)"
   ]
  },
  {
   "cell_type": "code",
   "execution_count": 4,
   "metadata": {},
   "outputs": [
    {
     "name": "stdout",
     "output_type": "stream",
     "text": [
      "FW: DATA_EXTRACTION - BHXBN Rexmax\n",
      "BHXBN Rexmax-202205190045.xlsx has been saved\n",
      "FW: DATA_EXTRACTION - LPLLC RevMax\n",
      "LPLLC RevMax-202205190116.xlsx has been saved\n",
      "Operation Audit - Revenue Extract - Date of 5/18/2022 12:00:00 AM\n",
      "20220518-1c35909a-1354-4d10-9a56-eca46e5b5b12.xls has been saved\n"
     ]
    }
   ],
   "source": [
    "messages = inbox.Items\n",
    "\n",
    "#Todays Date\n",
    "today_date = str(datetime.date.today())\n",
    "\n",
    "for email in messages:\n",
    "    if \"operation audit\" in email.subject.lower() and str(email.senton.date()) == today_date:\n",
    "        print(email.subject)\n",
    "        attachments = email.Attachments\n",
    "        attachment = attachments.Item(1)\n",
    "        attachment_name = str(attachment)\n",
    "        attachment.SaveASfile(\"V:\\\\Data & Analytics\\\\Dirty_Files\"+ '\\\\' + attachment_name)\n",
    "        print(attachment_name + \" \" + \"has been saved\")\n",
    "    elif \"bhxbn rexmax\" in email.subject.lower() and str(email.senton.date()) == today_date:\n",
    "        print(email.subject)\n",
    "        attachments = email.Attachments\n",
    "        attachment = attachments.Item(1)\n",
    "        attachment_name = str(attachment)\n",
    "        attachment.SaveASfile(\"V:\\\\Data & Analytics\\\\Scheduling\\\\Jewellrey Quarter files\\\\Forecast\"+ '\\\\' + attachment_name)\n",
    "        print(attachment_name + \" \" + \"has been saved\")\n",
    "    elif \"lpllc revmax\" in email.subject.lower() and str(email.senton.date()) == today_date:\n",
    "        print(email.subject)\n",
    "        attachments = email.Attachments\n",
    "        attachment = attachments.Item(1)\n",
    "        attachment_name = str(attachment)\n",
    "        attachment.SaveASfile(\"V:\\\\Data & Analytics\\\\Scheduling\\\\Liverpool files\\\\Forecast\"+ '\\\\' + attachment_name)\n",
    "        print(attachment_name + \" \" + \"has been saved\")\n",
    "    else:\n",
    "        pass"
   ]
  },
  {
   "cell_type": "code",
   "execution_count": 5,
   "metadata": {},
   "outputs": [],
   "source": [
    "#Connects to excel and finds the appropiate files\n",
    "o = win32com.client.Dispatch(\"Excel.Application\")\n",
    "o.Visible = False\n",
    "\n",
    "input_dir = r\"V:\\\\Data & Analytics\\\\Dirty_Files\"\n",
    "output_dir = r\"V:\\\\Accounts\\\\2022\\\\Hilton Hotels\\\\Data\"\n",
    "files = glob.glob(input_dir + \"/*.xls\")"
   ]
  },
  {
   "cell_type": "code",
   "execution_count": 6,
   "metadata": {},
   "outputs": [],
   "source": [
    "#Moves and renames the corrupt files making them uncorrupt\n",
    "for filename in files:\n",
    "    file = os.path.basename(filename)\n",
    "    output = output_dir + '\\\\' + file.replace('.xls','.xlsx')\n",
    "    wb = o.Workbooks.Open(filename)\n",
    "    wb.ActiveSheet.SaveAs(output,51)\n",
    "    wb.Close(True)"
   ]
  },
  {
   "cell_type": "code",
   "execution_count": 7,
   "metadata": {},
   "outputs": [
    {
     "name": "stderr",
     "output_type": "stream",
     "text": [
      "C:\\Users\\glorimer\\AppData\\Local\\Temp\\ipykernel_19872\\2533171383.py:7: DeprecationWarning: Call to deprecated function get_sheet_names (Use wb.sheetnames).\n",
      "  sheet_name = str(ss.get_sheet_names()[0])\n"
     ]
    },
    {
     "name": "stdout",
     "output_type": "stream",
     "text": [
      "sheet name has been changed\n"
     ]
    }
   ],
   "source": [
    "path = \"V:\\\\Accounts\\\\2022\\\\Hilton Hotels\\\\Data\"\n",
    "files = os.listdir(path)\n",
    "ops_audits = [f for f in files if f[-4:] == 'xlsx']\n",
    "\n",
    "for f in ops_audits:\n",
    "    ss=openpyxl.load_workbook(path + '\\\\' + f)\n",
    "    sheet_name = str(ss.get_sheet_names()[0])\n",
    "    if sheet_name != \"Sheet1\":\n",
    "        ss_sheet = ss[sheet_name]\n",
    "        ss_sheet.title = 'Sheet1'\n",
    "        ss.save(path + '\\\\' + f)\n",
    "        print('sheet name has been changed')\n",
    "    "
   ]
  },
  {
   "cell_type": "code",
   "execution_count": null,
   "metadata": {},
   "outputs": [],
   "source": []
  }
 ],
 "metadata": {
  "interpreter": {
   "hash": "d42165dacdca377a180620710ee113d7de2a3578c66853b7c94c4572f915a6d6"
  },
  "kernelspec": {
   "display_name": "Python 3.10.4 64-bit",
   "language": "python",
   "name": "python3"
  },
  "language_info": {
   "codemirror_mode": {
    "name": "ipython",
    "version": 3
   },
   "file_extension": ".py",
   "mimetype": "text/x-python",
   "name": "python",
   "nbconvert_exporter": "python",
   "pygments_lexer": "ipython3",
   "version": "3.10.4"
  },
  "orig_nbformat": 4
 },
 "nbformat": 4,
 "nbformat_minor": 2
}
