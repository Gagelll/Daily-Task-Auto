{
 "cells": [
  {
   "cell_type": "code",
   "execution_count": 1,
   "metadata": {},
   "outputs": [],
   "source": [
    "import numpy as np\n",
    "import matplotlib as mpl\n",
    "mpl.use('Agg')\n",
    "import matplotlib.pyplot as plt"
   ]
  },
  {
   "cell_type": "code",
   "execution_count": 2,
   "metadata": {},
   "outputs": [],
   "source": [
    "x = np.linspace(0, 2*np.pi,100)\n",
    "y = np.cos(x)"
   ]
  },
  {
   "cell_type": "code",
   "execution_count": 3,
   "metadata": {},
   "outputs": [
    {
     "data": {
      "text/plain": [
       "[<matplotlib.lines.Line2D at 0x1987e214ca0>]"
      ]
     },
     "execution_count": 3,
     "metadata": {},
     "output_type": "execute_result"
    }
   ],
   "source": [
    "fig, ax = plt.subplots()\n",
    "ax.plot(x, y, color = 'green')"
   ]
  },
  {
   "cell_type": "code",
   "execution_count": 4,
   "metadata": {},
   "outputs": [],
   "source": [
    "fig = plt.figure(figsize=(10,8))\n",
    "ax = fig.add_subplot(111)"
   ]
  },
  {
   "cell_type": "code",
   "execution_count": 5,
   "metadata": {},
   "outputs": [],
   "source": [
    "points = [1,4,6,7,9,4,2,4,5,6,5,3,2,1,2,4,6,7]"
   ]
  },
  {
   "cell_type": "code",
   "execution_count": 6,
   "metadata": {},
   "outputs": [],
   "source": [
    "ax.plot(points)\n",
    "fig.savefig('graph.png')"
   ]
  },
  {
   "cell_type": "markdown",
   "metadata": {},
   "source": [
    "\n",
    "Can we extend this?\n",
    "\n",
    "Add a title for the graph\n",
    "\n",
    "Add x axis label\n",
    "\n",
    "Add y axis label\n",
    "\n",
    "Plot more than one line\n",
    "\n",
    "\n",
    "Can you create different types of charts?"
   ]
  },
  {
   "cell_type": "code",
   "execution_count": 7,
   "metadata": {},
   "outputs": [
    {
     "data": {
      "text/plain": [
       "[<matplotlib.lines.Line2D at 0x198003c4190>]"
      ]
     },
     "execution_count": 7,
     "metadata": {},
     "output_type": "execute_result"
    }
   ],
   "source": [
    "z = [1,4,6,7,9,4,2,4,5,6,5,3,2,1,2,4,6,7]\n",
    "p = np.random.randint(50, size= (18))\n",
    "\n",
    "plt.title('Lecture 21/02/2022')\n",
    "plt.xlabel('Numbers')\n",
    "plt.ylabel('Other Numbers')\n",
    "plt.plot(points)"
   ]
  },
  {
   "cell_type": "code",
   "execution_count": 8,
   "metadata": {},
   "outputs": [
    {
     "data": {
      "text/plain": [
       "<matplotlib.legend.Legend at 0x1987e230c70>"
      ]
     },
     "execution_count": 8,
     "metadata": {},
     "output_type": "execute_result"
    }
   ],
   "source": [
    "x = [7, 14, 21, 28, 35, 42, 49]\n",
    "y = [5, 12, 19, 21, 31, 27, 35]\n",
    "z = [3, 5, 11, 20, 15, 29, 31]\n",
    "\n",
    "plt.plot(x, y, 'g', label='Line y')\n",
    "\n",
    "plt.plot(x, z, 'r', label='Line z')\n",
    "\n",
    "plt.title('Lecture 21/02/2022')\n",
    "plt.xlabel('Numbers')\n",
    "plt.ylabel('Other Numbers')\n",
    "plt.legend()\n"
   ]
  },
  {
   "cell_type": "code",
   "execution_count": 9,
   "metadata": {},
   "outputs": [
    {
     "name": "stderr",
     "output_type": "stream",
     "text": [
      "C:\\Users\\glorimer\\AppData\\Local\\Temp/ipykernel_13384/4182215432.py:18: UserWarning: Matplotlib is currently using agg, which is a non-GUI backend, so cannot show the figure.\n",
      "  plt.show()\n"
     ]
    }
   ],
   "source": [
    "# create dataset\n",
    "height = [3, 12, 5, 18, 45]\n",
    "bars = ('A', 'B', 'C', 'D', 'E')\n",
    "x_pos = np.arange(len(bars))\n",
    " \n",
    "# Create bars and choose color\n",
    "plt.bar(x_pos, height, color = (0.5,0.1,0.5,0.6))\n",
    " \n",
    "# Add title and axis names\n",
    "plt.title('My title')\n",
    "plt.xlabel('categories')\n",
    "plt.ylabel('values')\n",
    " \n",
    "# Create names on the x axis\n",
    "plt.xticks(x_pos, bars)\n",
    " \n",
    "# Show graph\n",
    "plt.show()"
   ]
  },
  {
   "cell_type": "code",
   "execution_count": 10,
   "metadata": {},
   "outputs": [
    {
     "name": "stdout",
     "output_type": "stream",
     "text": [
      "(7, 3)\n",
      "<class 'numpy.ndarray'>\n",
      "[[ 7  5  3]\n",
      " [14 12  5]\n",
      " [21 19 11]\n",
      " [28 21 20]\n",
      " [35 31 15]\n",
      " [42 27 29]\n",
      " [49 35 31]]\n"
     ]
    }
   ],
   "source": [
    "import numpy as np\n",
    "\n",
    "# Define data values in array\n",
    "arr = np.array([[7, 5, 3], [14, 12, 5], [21, 19, 11],\n",
    "                [28, 21, 20], [35, 31, 15], [42, 27, 29],\n",
    "                [49, 35, 31]])\n",
    "\n",
    "print(np.shape(arr), type(arr), arr, sep='\\n')"
   ]
  }
 ],
 "metadata": {
  "interpreter": {
   "hash": "986793d5e4e02062d0c9d8c53aa2ac8b08360374fa4c9937dba41c9e59c491f0"
  },
  "kernelspec": {
   "display_name": "Python 3.9.7 ('base')",
   "language": "python",
   "name": "python3"
  },
  "language_info": {
   "codemirror_mode": {
    "name": "ipython",
    "version": 3
   },
   "file_extension": ".py",
   "mimetype": "text/x-python",
   "name": "python",
   "nbconvert_exporter": "python",
   "pygments_lexer": "ipython3",
   "version": "3.9.7"
  },
  "orig_nbformat": 4
 },
 "nbformat": 4,
 "nbformat_minor": 2
}
